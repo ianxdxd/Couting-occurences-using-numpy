{
  "nbformat": 4,
  "nbformat_minor": 0,
  "metadata": {
    "colab": {
      "provenance": [],
      "authorship_tag": "ABX9TyOmpHrfBx/pUBHzoPa5dEKP",
      "include_colab_link": true
    },
    "kernelspec": {
      "name": "python3",
      "display_name": "Python 3"
    },
    "language_info": {
      "name": "python"
    }
  },
  "cells": [
    {
      "cell_type": "markdown",
      "metadata": {
        "id": "view-in-github",
        "colab_type": "text"
      },
      "source": [
        "<a href=\"https://colab.research.google.com/github/ianxdxd/Couting-occurences-using-numpy/blob/main/numpy__matrix_3x3_2x10.ipynb\" target=\"_parent\"><img src=\"https://colab.research.google.com/assets/colab-badge.svg\" alt=\"Open In Colab\"/></a>"
      ]
    },
    {
      "cell_type": "code",
      "execution_count": 27,
      "metadata": {
        "colab": {
          "base_uri": "https://localhost:8080/"
        },
        "id": "7U63eQGHl2Te",
        "outputId": "c2936f0f-bbfd-4208-b6c5-721322cbb592"
      },
      "outputs": [
        {
          "output_type": "stream",
          "name": "stdout",
          "text": [
            "Original Matrix: \n",
            "[[1 1 3]\n",
            " [4 5 2]\n",
            " [3 0 0]]\n",
            "Occurences: \n",
            "[2 2 1 2 1 1]\n"
          ]
        }
      ],
      "source": [
        "import numpy as np\n",
        "\n",
        "m = np.matrix([[1,1,3], [4,5,2], [3,0,0]]) # primary matrix, used for obtaining the values\n",
        "print(\"Original Matrix: \") # print original matrix\n",
        "print(m)\n",
        "\n",
        "# get flattened array:\n",
        "arr = m.getA1()\n",
        "# get the bincounts:\n",
        "bc = np.bincount(arr)\n",
        "\n",
        "print(\"Occurences: \")\n",
        "print(bc)\n",
        " "
      ]
    }
  ]
}